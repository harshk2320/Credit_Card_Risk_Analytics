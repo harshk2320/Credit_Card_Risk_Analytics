{
 "cells": [
  {
   "cell_type": "markdown",
   "metadata": {},
   "source": [
    "<center>\n",
    "<h1> Credit Risk Analytics\n",
    "</center>\n",
    "\n",
    "###### Definition of Target and Outcome Window:\n",
    "One of the leading banks would like to predict bad customer while customer applying for loan. This model also called as PD Models (Probability of Default)\n",
    "\n",
    "\n",
    "###### Data Pre-Processing - \n",
    "    - Missing Values Treatment - Numerical (Mean/Median imputation) and Categorical (Separate Missing Category or Merging)\n",
    "    - Univariate Analysis - Outlier and Frequency Analysis\n",
    "###### Data Exploratory Analysis\n",
    "    - Bivariate Analysis - Numeric(TTest) and Categorical(Chisquare)\n",
    "    - Bivariate Analysis - Visualization\n",
    "    - Variable Transformation - P-Value based selection\n",
    "    - Variable Transformation - Bucketing / Binning for numerical variables and Dummy for Categorical Variables\n",
    "    - Variable Reduction - IV / Somers'D\n",
    "    - Variable Reduction - Multicollinearity\n",
    "###### Model Build and Model Diagnostics\n",
    "    - Train and Test split\n",
    "    - Significance of each Variable\n",
    "    - Gini and ROC / Concordance analysis - Rank Ordering\n",
    "    - Classification Table Analysis - Accuracy\n",
    "\n",
    "###### Model Validation\n",
    "    - OOS validation - p-value and sign testing for the model coefficients\n",
    "    - Diagnostics check to remain similar to Training Model build\n",
    "    - BootStrapping, if necessary\n",
    "###### Model Interpretation for its properties\n",
    "    - Inferencing for finding the most important contributors\n",
    "    - Prediction of risk and proactive prevention by targeting segments of the population"
   ]
  },
  {
   "cell_type": "markdown",
   "metadata": {},
   "source": [
    "### Import the packages"
   ]
  },
  {
   "cell_type": "code",
   "execution_count": 127,
   "metadata": {},
   "outputs": [],
   "source": [
    "import pandas as pd\n",
    "import numpy as np\n",
    "import seaborn as sns\n",
    "import matplotlib.pyplot as plt\n",
    "%matplotlib inline\n",
    "\n",
    "from patsy import dmatrices\n",
    "from statsmodels.stats.outliers_influence import variance_inflation_factor\n",
    "import scipy.stats as stats\n",
    "\n",
    "import statsmodels.formula.api as smf\n",
    "from sklearn.model_selection import train_test_split\n",
    "from sklearn.linear_model import LogisticRegression\n",
    "from sklearn.metrics import roc_auc_score, confusion_matrix, classification_report, accuracy_score"
   ]
  },
  {
   "cell_type": "markdown",
   "metadata": {},
   "source": [
    "### Data import "
   ]
  },
  {
   "cell_type": "code",
   "execution_count": 128,
   "metadata": {},
   "outputs": [],
   "source": [
    "bankloans= pd.read_csv(r\"F:\\AnalyticslabFIles\\class files\\Machine learning\\Python April BLR _ Class 20 Python for Data Science (Self-paced) v5\\Python April BLR _ Class 20 Python for Data Science April 2022 - 1659608821238\\bankloans - 1656936041780.csv\")"
   ]
  },
  {
   "cell_type": "markdown",
   "metadata": {},
   "source": [
    "### UDFs"
   ]
  },
  {
   "cell_type": "code",
   "execution_count": 129,
   "metadata": {},
   "outputs": [],
   "source": [
    "def continuous_var_summary( x ):\n",
    "    \n",
    "    # freq and missings\n",
    "    n_total = x.shape[0]\n",
    "    n_miss = x.isna().sum()\n",
    "    perc_miss = n_miss * 100 / n_total\n",
    "    \n",
    "    # outliers - iqr\n",
    "    q1 = x.quantile(0.25)\n",
    "    q3 = x.quantile(0.75)\n",
    "    iqr = q3 - q1\n",
    "    lc_iqr = q1 - 1.5 * iqr\n",
    "    uc_iqr = q3 + 1.5 * iqr\n",
    "    \n",
    "    \n",
    "    return pd.Series( [ x.dtype, x.nunique(), n_total, x.count(), n_miss, perc_miss,\n",
    "                       x.sum(), x.mean(), x.std(), x.var(), \n",
    "                       lc_iqr, uc_iqr, \n",
    "                       x.min(), x.quantile(0.01), x.quantile(0.05), x.quantile(0.10), \n",
    "                       x.quantile(0.25), x.quantile(0.5), x.quantile(0.75), \n",
    "                       x.quantile(0.90), x.quantile(0.95), x.quantile(0.99), x.max() ], \n",
    "                     \n",
    "                    index = ['dtype', 'cardinality', 'n_tot', 'n', 'nmiss', 'perc_miss',\n",
    "                             'sum', 'mean', 'std', 'var',\n",
    "                        'lc_iqr', 'uc_iqr',\n",
    "                        'min', 'p1', 'p5', 'p10', 'p25', 'p50', 'p75', 'p90', 'p95', 'p99', 'max']) "
   ]
  },
  {
   "cell_type": "code",
   "execution_count": 130,
   "metadata": {},
   "outputs": [],
   "source": [
    "# Create Data audit Report for categorical variables\n",
    "def categorical_var_summary(x):\n",
    "    Mode = x.value_counts().sort_values(ascending = False)[0:1].reset_index()\n",
    "    return pd.Series([x.count(), x.isnull().sum(), Mode.iloc[0, 0], Mode.iloc[0, 1], \n",
    "                          round(Mode.iloc[0, 1] * 100/x.count(), 2)], \n",
    "                  index = ['N', 'NMISS', 'MODE', 'FREQ', 'PERCENT'])"
   ]
  },
  {
   "cell_type": "code",
   "execution_count": 131,
   "metadata": {},
   "outputs": [],
   "source": [
    "# Missing value imputation for categorical and continuous variables\n",
    "def missing_imputation(x, stats = 'mean'):\n",
    "    if (x.dtypes == 'float64') | (x.dtypes == 'int64'):\n",
    "        x = x.fillna(x.mean()) if stats == 'mean' else x.fillna(x.median())\n",
    "    return x"
   ]
  },
  {
   "cell_type": "markdown",
   "metadata": {},
   "source": [
    "### Data inspection"
   ]
  },
  {
   "cell_type": "code",
   "execution_count": 45,
   "metadata": {},
   "outputs": [
    {
     "name": "stdout",
     "output_type": "stream",
     "text": [
      "<class 'pandas.core.frame.DataFrame'>\n",
      "RangeIndex: 850 entries, 0 to 849\n",
      "Data columns (total 9 columns):\n",
      " #   Column    Non-Null Count  Dtype  \n",
      "---  ------    --------------  -----  \n",
      " 0   age       850 non-null    int64  \n",
      " 1   ed        850 non-null    int64  \n",
      " 2   employ    850 non-null    int64  \n",
      " 3   address   850 non-null    int64  \n",
      " 4   income    850 non-null    int64  \n",
      " 5   debtinc   850 non-null    float64\n",
      " 6   creddebt  850 non-null    float64\n",
      " 7   othdebt   850 non-null    float64\n",
      " 8   default   700 non-null    float64\n",
      "dtypes: float64(4), int64(5)\n",
      "memory usage: 59.9 KB\n"
     ]
    }
   ],
   "source": [
    "# Check the metadata.\n",
    "bankloans.info()"
   ]
  },
  {
   "cell_type": "code",
   "execution_count": 46,
   "metadata": {},
   "outputs": [
    {
     "data": {
      "text/html": [
       "<div>\n",
       "<style scoped>\n",
       "    .dataframe tbody tr th:only-of-type {\n",
       "        vertical-align: middle;\n",
       "    }\n",
       "\n",
       "    .dataframe tbody tr th {\n",
       "        vertical-align: top;\n",
       "    }\n",
       "\n",
       "    .dataframe thead th {\n",
       "        text-align: right;\n",
       "    }\n",
       "</style>\n",
       "<table border=\"1\" class=\"dataframe\">\n",
       "  <thead>\n",
       "    <tr style=\"text-align: right;\">\n",
       "      <th></th>\n",
       "      <th>age</th>\n",
       "      <th>ed</th>\n",
       "      <th>employ</th>\n",
       "      <th>address</th>\n",
       "      <th>income</th>\n",
       "      <th>debtinc</th>\n",
       "      <th>creddebt</th>\n",
       "      <th>othdebt</th>\n",
       "      <th>default</th>\n",
       "    </tr>\n",
       "  </thead>\n",
       "  <tbody>\n",
       "    <tr>\n",
       "      <th>0</th>\n",
       "      <td>41</td>\n",
       "      <td>3</td>\n",
       "      <td>17</td>\n",
       "      <td>12</td>\n",
       "      <td>176</td>\n",
       "      <td>9.3</td>\n",
       "      <td>11.359392</td>\n",
       "      <td>5.008608</td>\n",
       "      <td>1.0</td>\n",
       "    </tr>\n",
       "    <tr>\n",
       "      <th>1</th>\n",
       "      <td>27</td>\n",
       "      <td>1</td>\n",
       "      <td>10</td>\n",
       "      <td>6</td>\n",
       "      <td>31</td>\n",
       "      <td>17.3</td>\n",
       "      <td>1.362202</td>\n",
       "      <td>4.000798</td>\n",
       "      <td>0.0</td>\n",
       "    </tr>\n",
       "    <tr>\n",
       "      <th>2</th>\n",
       "      <td>40</td>\n",
       "      <td>1</td>\n",
       "      <td>15</td>\n",
       "      <td>14</td>\n",
       "      <td>55</td>\n",
       "      <td>5.5</td>\n",
       "      <td>0.856075</td>\n",
       "      <td>2.168925</td>\n",
       "      <td>0.0</td>\n",
       "    </tr>\n",
       "    <tr>\n",
       "      <th>3</th>\n",
       "      <td>41</td>\n",
       "      <td>1</td>\n",
       "      <td>15</td>\n",
       "      <td>14</td>\n",
       "      <td>120</td>\n",
       "      <td>2.9</td>\n",
       "      <td>2.658720</td>\n",
       "      <td>0.821280</td>\n",
       "      <td>0.0</td>\n",
       "    </tr>\n",
       "    <tr>\n",
       "      <th>4</th>\n",
       "      <td>24</td>\n",
       "      <td>2</td>\n",
       "      <td>2</td>\n",
       "      <td>0</td>\n",
       "      <td>28</td>\n",
       "      <td>17.3</td>\n",
       "      <td>1.787436</td>\n",
       "      <td>3.056564</td>\n",
       "      <td>1.0</td>\n",
       "    </tr>\n",
       "  </tbody>\n",
       "</table>\n",
       "</div>"
      ],
      "text/plain": [
       "   age  ed  employ  address  income  debtinc   creddebt   othdebt  default\n",
       "0   41   3      17       12     176      9.3  11.359392  5.008608      1.0\n",
       "1   27   1      10        6      31     17.3   1.362202  4.000798      0.0\n",
       "2   40   1      15       14      55      5.5   0.856075  2.168925      0.0\n",
       "3   41   1      15       14     120      2.9   2.658720  0.821280      0.0\n",
       "4   24   2       2        0      28     17.3   1.787436  3.056564      1.0"
      ]
     },
     "execution_count": 46,
     "metadata": {},
     "output_type": "execute_result"
    }
   ],
   "source": [
    "bankloans.head()"
   ]
  },
  {
   "cell_type": "code",
   "execution_count": 47,
   "metadata": {},
   "outputs": [
    {
     "data": {
      "text/plain": [
       "0.0    0.738571\n",
       "1.0    0.261429\n",
       "Name: default, dtype: float64"
      ]
     },
     "execution_count": 47,
     "metadata": {},
     "output_type": "execute_result"
    }
   ],
   "source": [
    "bankloans.default.value_counts()/bankloans.default.notna().sum()"
   ]
  },
  {
   "cell_type": "markdown",
   "metadata": {},
   "source": [
    "### Separate out the data for existing and new customers."
   ]
  },
  {
   "cell_type": "code",
   "execution_count": 48,
   "metadata": {},
   "outputs": [
    {
     "data": {
      "text/html": [
       "<div>\n",
       "<style scoped>\n",
       "    .dataframe tbody tr th:only-of-type {\n",
       "        vertical-align: middle;\n",
       "    }\n",
       "\n",
       "    .dataframe tbody tr th {\n",
       "        vertical-align: top;\n",
       "    }\n",
       "\n",
       "    .dataframe thead th {\n",
       "        text-align: right;\n",
       "    }\n",
       "</style>\n",
       "<table border=\"1\" class=\"dataframe\">\n",
       "  <thead>\n",
       "    <tr style=\"text-align: right;\">\n",
       "      <th></th>\n",
       "      <th>age</th>\n",
       "      <th>ed</th>\n",
       "      <th>employ</th>\n",
       "      <th>address</th>\n",
       "      <th>income</th>\n",
       "      <th>debtinc</th>\n",
       "      <th>creddebt</th>\n",
       "      <th>othdebt</th>\n",
       "      <th>default</th>\n",
       "    </tr>\n",
       "  </thead>\n",
       "  <tbody>\n",
       "    <tr>\n",
       "      <th>0</th>\n",
       "      <td>41</td>\n",
       "      <td>3</td>\n",
       "      <td>17</td>\n",
       "      <td>12</td>\n",
       "      <td>176</td>\n",
       "      <td>9.3</td>\n",
       "      <td>11.359392</td>\n",
       "      <td>5.008608</td>\n",
       "      <td>1.0</td>\n",
       "    </tr>\n",
       "    <tr>\n",
       "      <th>1</th>\n",
       "      <td>27</td>\n",
       "      <td>1</td>\n",
       "      <td>10</td>\n",
       "      <td>6</td>\n",
       "      <td>31</td>\n",
       "      <td>17.3</td>\n",
       "      <td>1.362202</td>\n",
       "      <td>4.000798</td>\n",
       "      <td>0.0</td>\n",
       "    </tr>\n",
       "    <tr>\n",
       "      <th>2</th>\n",
       "      <td>40</td>\n",
       "      <td>1</td>\n",
       "      <td>15</td>\n",
       "      <td>14</td>\n",
       "      <td>55</td>\n",
       "      <td>5.5</td>\n",
       "      <td>0.856075</td>\n",
       "      <td>2.168925</td>\n",
       "      <td>0.0</td>\n",
       "    </tr>\n",
       "    <tr>\n",
       "      <th>3</th>\n",
       "      <td>41</td>\n",
       "      <td>1</td>\n",
       "      <td>15</td>\n",
       "      <td>14</td>\n",
       "      <td>120</td>\n",
       "      <td>2.9</td>\n",
       "      <td>2.658720</td>\n",
       "      <td>0.821280</td>\n",
       "      <td>0.0</td>\n",
       "    </tr>\n",
       "    <tr>\n",
       "      <th>4</th>\n",
       "      <td>24</td>\n",
       "      <td>2</td>\n",
       "      <td>2</td>\n",
       "      <td>0</td>\n",
       "      <td>28</td>\n",
       "      <td>17.3</td>\n",
       "      <td>1.787436</td>\n",
       "      <td>3.056564</td>\n",
       "      <td>1.0</td>\n",
       "    </tr>\n",
       "    <tr>\n",
       "      <th>...</th>\n",
       "      <td>...</td>\n",
       "      <td>...</td>\n",
       "      <td>...</td>\n",
       "      <td>...</td>\n",
       "      <td>...</td>\n",
       "      <td>...</td>\n",
       "      <td>...</td>\n",
       "      <td>...</td>\n",
       "      <td>...</td>\n",
       "    </tr>\n",
       "    <tr>\n",
       "      <th>695</th>\n",
       "      <td>36</td>\n",
       "      <td>2</td>\n",
       "      <td>6</td>\n",
       "      <td>15</td>\n",
       "      <td>27</td>\n",
       "      <td>4.6</td>\n",
       "      <td>0.262062</td>\n",
       "      <td>0.979938</td>\n",
       "      <td>1.0</td>\n",
       "    </tr>\n",
       "    <tr>\n",
       "      <th>696</th>\n",
       "      <td>29</td>\n",
       "      <td>2</td>\n",
       "      <td>6</td>\n",
       "      <td>4</td>\n",
       "      <td>21</td>\n",
       "      <td>11.5</td>\n",
       "      <td>0.369495</td>\n",
       "      <td>2.045505</td>\n",
       "      <td>0.0</td>\n",
       "    </tr>\n",
       "    <tr>\n",
       "      <th>697</th>\n",
       "      <td>33</td>\n",
       "      <td>1</td>\n",
       "      <td>15</td>\n",
       "      <td>3</td>\n",
       "      <td>32</td>\n",
       "      <td>7.6</td>\n",
       "      <td>0.491264</td>\n",
       "      <td>1.940736</td>\n",
       "      <td>0.0</td>\n",
       "    </tr>\n",
       "    <tr>\n",
       "      <th>698</th>\n",
       "      <td>45</td>\n",
       "      <td>1</td>\n",
       "      <td>19</td>\n",
       "      <td>22</td>\n",
       "      <td>77</td>\n",
       "      <td>8.4</td>\n",
       "      <td>2.302608</td>\n",
       "      <td>4.165392</td>\n",
       "      <td>0.0</td>\n",
       "    </tr>\n",
       "    <tr>\n",
       "      <th>699</th>\n",
       "      <td>37</td>\n",
       "      <td>1</td>\n",
       "      <td>12</td>\n",
       "      <td>14</td>\n",
       "      <td>44</td>\n",
       "      <td>14.7</td>\n",
       "      <td>2.994684</td>\n",
       "      <td>3.473316</td>\n",
       "      <td>0.0</td>\n",
       "    </tr>\n",
       "  </tbody>\n",
       "</table>\n",
       "<p>700 rows × 9 columns</p>\n",
       "</div>"
      ],
      "text/plain": [
       "     age  ed  employ  address  income  debtinc   creddebt   othdebt  default\n",
       "0     41   3      17       12     176      9.3  11.359392  5.008608      1.0\n",
       "1     27   1      10        6      31     17.3   1.362202  4.000798      0.0\n",
       "2     40   1      15       14      55      5.5   0.856075  2.168925      0.0\n",
       "3     41   1      15       14     120      2.9   2.658720  0.821280      0.0\n",
       "4     24   2       2        0      28     17.3   1.787436  3.056564      1.0\n",
       "..   ...  ..     ...      ...     ...      ...        ...       ...      ...\n",
       "695   36   2       6       15      27      4.6   0.262062  0.979938      1.0\n",
       "696   29   2       6        4      21     11.5   0.369495  2.045505      0.0\n",
       "697   33   1      15        3      32      7.6   0.491264  1.940736      0.0\n",
       "698   45   1      19       22      77      8.4   2.302608  4.165392      0.0\n",
       "699   37   1      12       14      44     14.7   2.994684  3.473316      0.0\n",
       "\n",
       "[700 rows x 9 columns]"
      ]
     },
     "execution_count": 48,
     "metadata": {},
     "output_type": "execute_result"
    }
   ],
   "source": [
    "bankloans.loc[bankloans.default.notna(), :]"
   ]
  },
  {
   "cell_type": "code",
   "execution_count": 49,
   "metadata": {},
   "outputs": [],
   "source": [
    "# Seperate the new and existing customers.\n",
    "bankloans_existing= bankloans.loc[bankloans.default.notna(), :]\n",
    "bankloans_new= bankloans.loc[bankloans.default.isna(), :]"
   ]
  },
  {
   "cell_type": "code",
   "execution_count": 50,
   "metadata": {},
   "outputs": [
    {
     "data": {
      "text/plain": [
       "(700, 9)"
      ]
     },
     "execution_count": 50,
     "metadata": {},
     "output_type": "execute_result"
    }
   ],
   "source": [
    "bankloans_existing.shape"
   ]
  },
  {
   "cell_type": "code",
   "execution_count": 51,
   "metadata": {},
   "outputs": [
    {
     "data": {
      "text/html": [
       "<div>\n",
       "<style scoped>\n",
       "    .dataframe tbody tr th:only-of-type {\n",
       "        vertical-align: middle;\n",
       "    }\n",
       "\n",
       "    .dataframe tbody tr th {\n",
       "        vertical-align: top;\n",
       "    }\n",
       "\n",
       "    .dataframe thead th {\n",
       "        text-align: right;\n",
       "    }\n",
       "</style>\n",
       "<table border=\"1\" class=\"dataframe\">\n",
       "  <thead>\n",
       "    <tr style=\"text-align: right;\">\n",
       "      <th></th>\n",
       "      <th>age</th>\n",
       "      <th>ed</th>\n",
       "      <th>employ</th>\n",
       "      <th>address</th>\n",
       "      <th>income</th>\n",
       "      <th>debtinc</th>\n",
       "      <th>creddebt</th>\n",
       "      <th>othdebt</th>\n",
       "      <th>default</th>\n",
       "    </tr>\n",
       "  </thead>\n",
       "  <tbody>\n",
       "    <tr>\n",
       "      <th>dtype</th>\n",
       "      <td>int64</td>\n",
       "      <td>int64</td>\n",
       "      <td>int64</td>\n",
       "      <td>int64</td>\n",
       "      <td>int64</td>\n",
       "      <td>float64</td>\n",
       "      <td>float64</td>\n",
       "      <td>float64</td>\n",
       "      <td>float64</td>\n",
       "    </tr>\n",
       "    <tr>\n",
       "      <th>cardinality</th>\n",
       "      <td>37</td>\n",
       "      <td>5</td>\n",
       "      <td>32</td>\n",
       "      <td>31</td>\n",
       "      <td>114</td>\n",
       "      <td>231</td>\n",
       "      <td>695</td>\n",
       "      <td>699</td>\n",
       "      <td>2</td>\n",
       "    </tr>\n",
       "    <tr>\n",
       "      <th>n_tot</th>\n",
       "      <td>700</td>\n",
       "      <td>700</td>\n",
       "      <td>700</td>\n",
       "      <td>700</td>\n",
       "      <td>700</td>\n",
       "      <td>700</td>\n",
       "      <td>700</td>\n",
       "      <td>700</td>\n",
       "      <td>700</td>\n",
       "    </tr>\n",
       "    <tr>\n",
       "      <th>n</th>\n",
       "      <td>700</td>\n",
       "      <td>700</td>\n",
       "      <td>700</td>\n",
       "      <td>700</td>\n",
       "      <td>700</td>\n",
       "      <td>700</td>\n",
       "      <td>700</td>\n",
       "      <td>700</td>\n",
       "      <td>700</td>\n",
       "    </tr>\n",
       "    <tr>\n",
       "      <th>nmiss</th>\n",
       "      <td>0</td>\n",
       "      <td>0</td>\n",
       "      <td>0</td>\n",
       "      <td>0</td>\n",
       "      <td>0</td>\n",
       "      <td>0</td>\n",
       "      <td>0</td>\n",
       "      <td>0</td>\n",
       "      <td>0</td>\n",
       "    </tr>\n",
       "    <tr>\n",
       "      <th>perc_miss</th>\n",
       "      <td>0</td>\n",
       "      <td>0</td>\n",
       "      <td>0</td>\n",
       "      <td>0</td>\n",
       "      <td>0</td>\n",
       "      <td>0</td>\n",
       "      <td>0</td>\n",
       "      <td>0</td>\n",
       "      <td>0</td>\n",
       "    </tr>\n",
       "    <tr>\n",
       "      <th>sum</th>\n",
       "      <td>24402</td>\n",
       "      <td>1206</td>\n",
       "      <td>5872</td>\n",
       "      <td>5795</td>\n",
       "      <td>31921</td>\n",
       "      <td>7182.4</td>\n",
       "      <td>1087.49</td>\n",
       "      <td>2140.75</td>\n",
       "      <td>183</td>\n",
       "    </tr>\n",
       "    <tr>\n",
       "      <th>mean</th>\n",
       "      <td>34.86</td>\n",
       "      <td>1.72286</td>\n",
       "      <td>8.38857</td>\n",
       "      <td>8.27857</td>\n",
       "      <td>45.6014</td>\n",
       "      <td>10.2606</td>\n",
       "      <td>1.55355</td>\n",
       "      <td>3.05821</td>\n",
       "      <td>0.261429</td>\n",
       "    </tr>\n",
       "    <tr>\n",
       "      <th>std</th>\n",
       "      <td>7.99734</td>\n",
       "      <td>0.928206</td>\n",
       "      <td>6.65804</td>\n",
       "      <td>6.82488</td>\n",
       "      <td>36.8142</td>\n",
       "      <td>6.82723</td>\n",
       "      <td>2.1172</td>\n",
       "      <td>3.28755</td>\n",
       "      <td>0.439727</td>\n",
       "    </tr>\n",
       "    <tr>\n",
       "      <th>var</th>\n",
       "      <td>63.9575</td>\n",
       "      <td>0.861566</td>\n",
       "      <td>44.3295</td>\n",
       "      <td>46.5789</td>\n",
       "      <td>1355.29</td>\n",
       "      <td>46.6111</td>\n",
       "      <td>4.48252</td>\n",
       "      <td>10.808</td>\n",
       "      <td>0.19336</td>\n",
       "    </tr>\n",
       "    <tr>\n",
       "      <th>lc_iqr</th>\n",
       "      <td>12.5</td>\n",
       "      <td>-0.5</td>\n",
       "      <td>-10.5</td>\n",
       "      <td>-10.5</td>\n",
       "      <td>-22.5</td>\n",
       "      <td>-8.6875</td>\n",
       "      <td>-1.93028</td>\n",
       "      <td>-3.27415</td>\n",
       "      <td>-1.5</td>\n",
       "    </tr>\n",
       "    <tr>\n",
       "      <th>uc_iqr</th>\n",
       "      <td>56.5</td>\n",
       "      <td>3.5</td>\n",
       "      <td>25.5</td>\n",
       "      <td>25.5</td>\n",
       "      <td>101.5</td>\n",
       "      <td>27.8125</td>\n",
       "      <td>4.2013</td>\n",
       "      <td>8.24139</td>\n",
       "      <td>2.5</td>\n",
       "    </tr>\n",
       "    <tr>\n",
       "      <th>min</th>\n",
       "      <td>20</td>\n",
       "      <td>1</td>\n",
       "      <td>0</td>\n",
       "      <td>0</td>\n",
       "      <td>14</td>\n",
       "      <td>0.4</td>\n",
       "      <td>0.011696</td>\n",
       "      <td>0.045584</td>\n",
       "      <td>0</td>\n",
       "    </tr>\n",
       "    <tr>\n",
       "      <th>p1</th>\n",
       "      <td>21</td>\n",
       "      <td>1</td>\n",
       "      <td>0</td>\n",
       "      <td>0</td>\n",
       "      <td>15</td>\n",
       "      <td>0.9</td>\n",
       "      <td>0.0302089</td>\n",
       "      <td>0.160936</td>\n",
       "      <td>0</td>\n",
       "    </tr>\n",
       "    <tr>\n",
       "      <th>p5</th>\n",
       "      <td>23</td>\n",
       "      <td>1</td>\n",
       "      <td>0</td>\n",
       "      <td>0</td>\n",
       "      <td>17</td>\n",
       "      <td>1.9</td>\n",
       "      <td>0.107029</td>\n",
       "      <td>0.376727</td>\n",
       "      <td>0</td>\n",
       "    </tr>\n",
       "    <tr>\n",
       "      <th>p10</th>\n",
       "      <td>25</td>\n",
       "      <td>1</td>\n",
       "      <td>1</td>\n",
       "      <td>1</td>\n",
       "      <td>19</td>\n",
       "      <td>2.9</td>\n",
       "      <td>0.17002</td>\n",
       "      <td>0.562232</td>\n",
       "      <td>0</td>\n",
       "    </tr>\n",
       "    <tr>\n",
       "      <th>p25</th>\n",
       "      <td>29</td>\n",
       "      <td>1</td>\n",
       "      <td>3</td>\n",
       "      <td>3</td>\n",
       "      <td>24</td>\n",
       "      <td>5</td>\n",
       "      <td>0.369059</td>\n",
       "      <td>1.04418</td>\n",
       "      <td>0</td>\n",
       "    </tr>\n",
       "    <tr>\n",
       "      <th>p50</th>\n",
       "      <td>34</td>\n",
       "      <td>1</td>\n",
       "      <td>7</td>\n",
       "      <td>7</td>\n",
       "      <td>34</td>\n",
       "      <td>8.6</td>\n",
       "      <td>0.854869</td>\n",
       "      <td>1.98757</td>\n",
       "      <td>0</td>\n",
       "    </tr>\n",
       "    <tr>\n",
       "      <th>p75</th>\n",
       "      <td>40</td>\n",
       "      <td>2</td>\n",
       "      <td>12</td>\n",
       "      <td>12</td>\n",
       "      <td>55</td>\n",
       "      <td>14.125</td>\n",
       "      <td>1.90196</td>\n",
       "      <td>3.92306</td>\n",
       "      <td>1</td>\n",
       "    </tr>\n",
       "    <tr>\n",
       "      <th>p90</th>\n",
       "      <td>46</td>\n",
       "      <td>3</td>\n",
       "      <td>18</td>\n",
       "      <td>18</td>\n",
       "      <td>82</td>\n",
       "      <td>19.61</td>\n",
       "      <td>3.6215</td>\n",
       "      <td>7.03618</td>\n",
       "      <td>1</td>\n",
       "    </tr>\n",
       "    <tr>\n",
       "      <th>p95</th>\n",
       "      <td>49</td>\n",
       "      <td>4</td>\n",
       "      <td>21.05</td>\n",
       "      <td>22</td>\n",
       "      <td>113</td>\n",
       "      <td>23.8</td>\n",
       "      <td>5.09826</td>\n",
       "      <td>9.50165</td>\n",
       "      <td>1</td>\n",
       "    </tr>\n",
       "    <tr>\n",
       "      <th>p99</th>\n",
       "      <td>53.01</td>\n",
       "      <td>4</td>\n",
       "      <td>27.01</td>\n",
       "      <td>26.01</td>\n",
       "      <td>190.3</td>\n",
       "      <td>30.701</td>\n",
       "      <td>9.89143</td>\n",
       "      <td>17.1847</td>\n",
       "      <td>1</td>\n",
       "    </tr>\n",
       "    <tr>\n",
       "      <th>max</th>\n",
       "      <td>56</td>\n",
       "      <td>5</td>\n",
       "      <td>31</td>\n",
       "      <td>34</td>\n",
       "      <td>446</td>\n",
       "      <td>41.3</td>\n",
       "      <td>20.5613</td>\n",
       "      <td>27.0336</td>\n",
       "      <td>1</td>\n",
       "    </tr>\n",
       "  </tbody>\n",
       "</table>\n",
       "</div>"
      ],
      "text/plain": [
       "                 age        ed   employ  address   income  debtinc   creddebt  \\\n",
       "dtype          int64     int64    int64    int64    int64  float64    float64   \n",
       "cardinality       37         5       32       31      114      231        695   \n",
       "n_tot            700       700      700      700      700      700        700   \n",
       "n                700       700      700      700      700      700        700   \n",
       "nmiss              0         0        0        0        0        0          0   \n",
       "perc_miss          0         0        0        0        0        0          0   \n",
       "sum            24402      1206     5872     5795    31921   7182.4    1087.49   \n",
       "mean           34.86   1.72286  8.38857  8.27857  45.6014  10.2606    1.55355   \n",
       "std          7.99734  0.928206  6.65804  6.82488  36.8142  6.82723     2.1172   \n",
       "var          63.9575  0.861566  44.3295  46.5789  1355.29  46.6111    4.48252   \n",
       "lc_iqr          12.5      -0.5    -10.5    -10.5    -22.5  -8.6875   -1.93028   \n",
       "uc_iqr          56.5       3.5     25.5     25.5    101.5  27.8125     4.2013   \n",
       "min               20         1        0        0       14      0.4   0.011696   \n",
       "p1                21         1        0        0       15      0.9  0.0302089   \n",
       "p5                23         1        0        0       17      1.9   0.107029   \n",
       "p10               25         1        1        1       19      2.9    0.17002   \n",
       "p25               29         1        3        3       24        5   0.369059   \n",
       "p50               34         1        7        7       34      8.6   0.854869   \n",
       "p75               40         2       12       12       55   14.125    1.90196   \n",
       "p90               46         3       18       18       82    19.61     3.6215   \n",
       "p95               49         4    21.05       22      113     23.8    5.09826   \n",
       "p99            53.01         4    27.01    26.01    190.3   30.701    9.89143   \n",
       "max               56         5       31       34      446     41.3    20.5613   \n",
       "\n",
       "              othdebt   default  \n",
       "dtype         float64   float64  \n",
       "cardinality       699         2  \n",
       "n_tot             700       700  \n",
       "n                 700       700  \n",
       "nmiss               0         0  \n",
       "perc_miss           0         0  \n",
       "sum           2140.75       183  \n",
       "mean          3.05821  0.261429  \n",
       "std           3.28755  0.439727  \n",
       "var            10.808   0.19336  \n",
       "lc_iqr       -3.27415      -1.5  \n",
       "uc_iqr        8.24139       2.5  \n",
       "min          0.045584         0  \n",
       "p1           0.160936         0  \n",
       "p5           0.376727         0  \n",
       "p10          0.562232         0  \n",
       "p25           1.04418         0  \n",
       "p50           1.98757         0  \n",
       "p75           3.92306         1  \n",
       "p90           7.03618         1  \n",
       "p95           9.50165         1  \n",
       "p99           17.1847         1  \n",
       "max           27.0336         1  "
      ]
     },
     "execution_count": 51,
     "metadata": {},
     "output_type": "execute_result"
    }
   ],
   "source": [
    "# EDA for all the variables\n",
    "bankloans_existing.apply(continuous_var_summary)"
   ]
  },
  {
   "cell_type": "markdown",
   "metadata": {},
   "source": [
    "### Data prepration/ Data cleaning"
   ]
  },
  {
   "cell_type": "code",
   "execution_count": 52,
   "metadata": {},
   "outputs": [],
   "source": [
    "# outlier treatment. \n",
    "bankloans_existing= bankloans_existing.apply(lambda x: x.clip(lower= x.quantile(0.01), upper= x.quantile(0.99)))"
   ]
  },
  {
   "cell_type": "code",
   "execution_count": 53,
   "metadata": {},
   "outputs": [],
   "source": [
    "# Handling missings.\n",
    "# bankloans_existing= bankloans_existing.apply(lambda x: missing_imputation(x))"
   ]
  },
  {
   "cell_type": "markdown",
   "metadata": {},
   "source": [
    "### Bi variate analysis to identify correlation."
   ]
  },
  {
   "cell_type": "code",
   "execution_count": 54,
   "metadata": {},
   "outputs": [],
   "source": [
    "# Correlation matrix\n",
    "corr_matrix= bankloans_existing.corr()\n",
    "# corr_matrix.to_csv('corr.csv')"
   ]
  },
  {
   "cell_type": "code",
   "execution_count": 55,
   "metadata": {},
   "outputs": [
    {
     "data": {
      "image/png": "[encoded data removed]",
      "text/plain": [
       "<Figure size 1080x648 with 2 Axes>"
      ]
     },
     "metadata": {
      "needs_background": "light"
     },
     "output_type": "display_data"
    }
   ],
   "source": [
    "# Visualise correlation matrix in Seaborn using a heatmap\n",
    "plt.figure(figsize= (15, 9))\n",
    "sns.heatmap(corr_matrix, annot= True)\n",
    "plt.show()"
   ]
  },
  {
   "cell_type": "markdown",
   "metadata": {},
   "source": [
    "### Building Logistic regression model"
   ]
  },
  {
   "cell_type": "code",
   "execution_count": 56,
   "metadata": {},
   "outputs": [],
   "source": [
    "# Train and Test split\n",
    "train, test = train_test_split(bankloans_existing, test_size= .3, random_state= 42)"
   ]
  },
  {
   "cell_type": "code",
   "execution_count": 57,
   "metadata": {},
   "outputs": [
    {
     "data": {
      "text/plain": [
       "Index(['age', 'ed', 'employ', 'address', 'income', 'debtinc', 'creddebt',\n",
       "       'othdebt', 'default'],\n",
       "      dtype='object')"
      ]
     },
     "execution_count": 57,
     "metadata": {},
     "output_type": "execute_result"
    }
   ],
   "source": [
    "# Print the columns.\n",
    "train.columns"
   ]
  },
  {
   "cell_type": "code",
   "execution_count": 58,
   "metadata": {},
   "outputs": [
    {
     "data": {
      "text/plain": [
       "'default ~ address + age + creddebt + debtinc + ed + employ + income + othdebt'"
      ]
     },
     "execution_count": 58,
     "metadata": {},
     "output_type": "execute_result"
    }
   ],
   "source": [
    "model_eq= 'default ~ ' + ' + '.join(train.columns.difference(['default']))\n",
    "model_eq"
   ]
  },
  {
   "cell_type": "code",
   "execution_count": 59,
   "metadata": {},
   "outputs": [
    {
     "name": "stdout",
     "output_type": "stream",
     "text": [
      "Optimization terminated successfully.\n",
      "         Current function value: 0.425391\n",
      "         Iterations 7\n"
     ]
    }
   ],
   "source": [
    "# Execute a model for X variables.\n",
    "m1= smf.logit(formula= model_eq, data= train).fit()"
   ]
  },
  {
   "cell_type": "code",
   "execution_count": 60,
   "metadata": {},
   "outputs": [
    {
     "name": "stdout",
     "output_type": "stream",
     "text": [
      "                         Results: Logit\n",
      "=================================================================\n",
      "Model:              Logit            Pseudo R-squared: 0.275     \n",
      "Dependent Variable: default          AIC:              434.8834  \n",
      "Date:               2023-08-03 15:15 BIC:              472.6330  \n",
      "No. Observations:   490              Log-Likelihood:   -208.44   \n",
      "Df Model:           8                LL-Null:          -287.47   \n",
      "Df Residuals:       481              LLR p-value:      4.0651e-30\n",
      "Converged:          1.0000           Scale:            1.0000    \n",
      "No. Iterations:     7.0000                                       \n",
      "------------------------------------------------------------------\n",
      "               Coef.   Std.Err.     z     P>|z|    [0.025   0.975]\n",
      "------------------------------------------------------------------\n",
      "Intercept     -1.3844    0.7360  -1.8808  0.0600  -2.8270   0.0582\n",
      "address       -0.0853    0.0258  -3.3063  0.0009  -0.1359  -0.0348\n",
      "age            0.0389    0.0202   1.9237  0.0544  -0.0007   0.0784\n",
      "creddebt       0.6410    0.1385   4.6279  0.0000   0.3695   0.9125\n",
      "debtinc        0.0353    0.0390   0.9067  0.3646  -0.0411   0.1117\n",
      "ed             0.0080    0.1423   0.0563  0.9551  -0.2709   0.2870\n",
      "employ        -0.2650    0.0399  -6.6413  0.0000  -0.3432  -0.1868\n",
      "income        -0.0089    0.0123  -0.7215  0.4706  -0.0329   0.0152\n",
      "othdebt        0.1249    0.1019   1.2259  0.2202  -0.0748   0.3246\n",
      "=================================================================\n",
      "\n"
     ]
    }
   ],
   "source": [
    "# Print the model summary stats.\n",
    "print(m1.summary2())"
   ]
  },
  {
   "cell_type": "markdown",
   "metadata": {},
   "source": [
    "### Data Exploratory Analysis\n",
    "    - Variable Reduction using Somer's D values\n",
    "    - Bi-variate analysis technique to check the predictive power of each independent against dependent\n",
    "    - cutoff is 0.2 or 20% below which the variable is insignificant"
   ]
  },
  {
   "cell_type": "markdown",
   "metadata": {},
   "source": [
    "### Get the Somer's D values for all the X variables."
   ]
  },
  {
   "cell_type": "code",
   "execution_count": 68,
   "metadata": {},
   "outputs": [
    {
     "name": "stdout",
     "output_type": "stream",
     "text": [
      "Optimization terminated successfully.\n",
      "         Current function value: 0.559856\n",
      "         Iterations 5\n",
      "Optimization terminated successfully.\n",
      "         Current function value: 0.564673\n",
      "         Iterations 5\n",
      "Optimization terminated successfully.\n",
      "         Current function value: 0.548956\n",
      "         Iterations 5\n",
      "Optimization terminated successfully.\n",
      "         Current function value: 0.501389\n",
      "         Iterations 6\n",
      "Optimization terminated successfully.\n",
      "         Current function value: 0.567774\n",
      "         Iterations 5\n",
      "Optimization terminated successfully.\n",
      "         Current function value: 0.527166\n",
      "         Iterations 6\n",
      "Optimization terminated successfully.\n",
      "         Current function value: 0.569055\n",
      "         Iterations 6\n",
      "Optimization terminated successfully.\n",
      "         Current function value: 0.565619\n",
      "         Iterations 5\n"
     ]
    }
   ],
   "source": [
    "# Empty dataframe to store information.\n",
    "df= pd.DataFrame()\n",
    "\n",
    "# Iterate on each X variable\n",
    "for var_name in bankloans_existing.columns.difference(['default']):\n",
    "#     Build the bi_variate model and fit.\n",
    "    model= smf.logit(formula= 'default ~ ' + var_name, data= bankloans_existing).fit()\n",
    "    \n",
    "#     Predict the y\n",
    "    y_predicted= model.predict(bankloans_existing)\n",
    "    \n",
    "#     Get the ruc_auc_score\n",
    "    ruc_score= roc_auc_score(bankloans_existing.default, y_predicted)\n",
    "    \n",
    "#     Get the Somer's D value.\n",
    "    somers_d= 2 * (ruc_score) - 1\n",
    "    \n",
    "#     Store the data in temprary dataset.\n",
    "    temp_df= pd.DataFrame([var_name, ruc_score, somers_d]).T\n",
    "    \n",
    "#     Concat the data with the output dataframe\n",
    "    df= pd.concat([df, temp_df], axis= 0)\n",
    "    \n",
    "# Add the column names.\n",
    "df.columns= ['Features', 'RUC_AUC_score', \"Somer's D\" ]"
   ]
  },
  {
   "cell_type": "code",
   "execution_count": 69,
   "metadata": {},
   "outputs": [
    {
     "data": {
      "text/html": [
       "<div>\n",
       "<style scoped>\n",
       "    .dataframe tbody tr th:only-of-type {\n",
       "        vertical-align: middle;\n",
       "    }\n",
       "\n",
       "    .dataframe tbody tr th {\n",
       "        vertical-align: top;\n",
       "    }\n",
       "\n",
       "    .dataframe thead th {\n",
       "        text-align: right;\n",
       "    }\n",
       "</style>\n",
       "<table border=\"1\" class=\"dataframe\">\n",
       "  <thead>\n",
       "    <tr style=\"text-align: right;\">\n",
       "      <th></th>\n",
       "      <th>Features</th>\n",
       "      <th>RUC_AUC_score</th>\n",
       "      <th>Somer's D</th>\n",
       "    </tr>\n",
       "  </thead>\n",
       "  <tbody>\n",
       "    <tr>\n",
       "      <th>0</th>\n",
       "      <td>address</td>\n",
       "      <td>0.611192</td>\n",
       "      <td>0.222384</td>\n",
       "    </tr>\n",
       "    <tr>\n",
       "      <th>0</th>\n",
       "      <td>age</td>\n",
       "      <td>0.603165</td>\n",
       "      <td>0.206329</td>\n",
       "    </tr>\n",
       "    <tr>\n",
       "      <th>0</th>\n",
       "      <td>creddebt</td>\n",
       "      <td>0.636189</td>\n",
       "      <td>0.272378</td>\n",
       "    </tr>\n",
       "    <tr>\n",
       "      <th>0</th>\n",
       "      <td>debtinc</td>\n",
       "      <td>0.735253</td>\n",
       "      <td>0.470506</td>\n",
       "    </tr>\n",
       "    <tr>\n",
       "      <th>0</th>\n",
       "      <td>ed</td>\n",
       "      <td>0.574151</td>\n",
       "      <td>0.148302</td>\n",
       "    </tr>\n",
       "    <tr>\n",
       "      <th>0</th>\n",
       "      <td>employ</td>\n",
       "      <td>0.704569</td>\n",
       "      <td>0.409138</td>\n",
       "    </tr>\n",
       "    <tr>\n",
       "      <th>0</th>\n",
       "      <td>income</td>\n",
       "      <td>0.600136</td>\n",
       "      <td>0.200273</td>\n",
       "    </tr>\n",
       "    <tr>\n",
       "      <th>0</th>\n",
       "      <td>othdebt</td>\n",
       "      <td>0.586903</td>\n",
       "      <td>0.173806</td>\n",
       "    </tr>\n",
       "  </tbody>\n",
       "</table>\n",
       "</div>"
      ],
      "text/plain": [
       "   Features RUC_AUC_score Somer's D\n",
       "0   address      0.611192  0.222384\n",
       "0       age      0.603165  0.206329\n",
       "0  creddebt      0.636189  0.272378\n",
       "0   debtinc      0.735253  0.470506\n",
       "0        ed      0.574151  0.148302\n",
       "0    employ      0.704569  0.409138\n",
       "0    income      0.600136  0.200273\n",
       "0   othdebt      0.586903  0.173806"
      ]
     },
     "execution_count": 69,
     "metadata": {},
     "output_type": "execute_result"
    }
   ],
   "source": [
    "df"
   ]
  },
  {
   "cell_type": "code",
   "execution_count": 71,
   "metadata": {},
   "outputs": [],
   "source": [
    "features= list(df.loc[df[\"Somer's D\"] >= 0.2, 'Features'])"
   ]
  },
  {
   "cell_type": "code",
   "execution_count": 72,
   "metadata": {},
   "outputs": [
    {
     "data": {
      "text/plain": [
       "['address', 'age', 'creddebt', 'debtinc', 'employ', 'income']"
      ]
     },
     "execution_count": 72,
     "metadata": {},
     "output_type": "execute_result"
    }
   ],
   "source": [
    "features"
   ]
  },
  {
   "cell_type": "markdown",
   "metadata": {},
   "source": [
    "### VIF - Variance Inflation Factor"
   ]
  },
  {
   "cell_type": "code",
   "execution_count": 75,
   "metadata": {},
   "outputs": [
    {
     "data": {
      "text/html": [
       "<div>\n",
       "<style scoped>\n",
       "    .dataframe tbody tr th:only-of-type {\n",
       "        vertical-align: middle;\n",
       "    }\n",
       "\n",
       "    .dataframe tbody tr th {\n",
       "        vertical-align: top;\n",
       "    }\n",
       "\n",
       "    .dataframe thead th {\n",
       "        text-align: right;\n",
       "    }\n",
       "</style>\n",
       "<table border=\"1\" class=\"dataframe\">\n",
       "  <thead>\n",
       "    <tr style=\"text-align: right;\">\n",
       "      <th></th>\n",
       "      <th>features</th>\n",
       "      <th>VIF factor</th>\n",
       "    </tr>\n",
       "  </thead>\n",
       "  <tbody>\n",
       "    <tr>\n",
       "      <th>0</th>\n",
       "      <td>Intercept</td>\n",
       "      <td>28.286222</td>\n",
       "    </tr>\n",
       "    <tr>\n",
       "      <th>1</th>\n",
       "      <td>address</td>\n",
       "      <td>1.559236</td>\n",
       "    </tr>\n",
       "    <tr>\n",
       "      <th>2</th>\n",
       "      <td>age</td>\n",
       "      <td>2.036933</td>\n",
       "    </tr>\n",
       "    <tr>\n",
       "      <th>3</th>\n",
       "      <td>creddebt</td>\n",
       "      <td>2.564921</td>\n",
       "    </tr>\n",
       "    <tr>\n",
       "      <th>4</th>\n",
       "      <td>debtinc</td>\n",
       "      <td>1.778339</td>\n",
       "    </tr>\n",
       "    <tr>\n",
       "      <th>5</th>\n",
       "      <td>employ</td>\n",
       "      <td>1.997947</td>\n",
       "    </tr>\n",
       "    <tr>\n",
       "      <th>6</th>\n",
       "      <td>income</td>\n",
       "      <td>2.601717</td>\n",
       "    </tr>\n",
       "  </tbody>\n",
       "</table>\n",
       "</div>"
      ],
      "text/plain": [
       "    features  VIF factor\n",
       "0  Intercept   28.286222\n",
       "1    address    1.559236\n",
       "2        age    2.036933\n",
       "3   creddebt    2.564921\n",
       "4    debtinc    1.778339\n",
       "5     employ    1.997947\n",
       "6     income    2.601717"
      ]
     },
     "execution_count": 75,
     "metadata": {},
     "output_type": "execute_result"
    }
   ],
   "source": [
    "# run the dmatrices\n",
    "equation= 'default ~ ' + ' + '.join(features)\n",
    "\n",
    "a, b= dmatrices(equation, bankloans_existing, return_type= 'dataframe')\n",
    "\n",
    "# Get the VIF\n",
    "vif= pd.DataFrame()\n",
    "vif['features']= b.columns\n",
    "vif['VIF factor']= [variance_inflation_factor(b.values, i) for i in range(b.shape[1])]\n",
    "\n",
    "vif"
   ]
  },
  {
   "cell_type": "markdown",
   "metadata": {},
   "source": [
    "### Build the actual model"
   ]
  },
  {
   "cell_type": "code",
   "execution_count": 76,
   "metadata": {},
   "outputs": [
    {
     "data": {
      "text/plain": [
       "['address', 'age', 'creddebt', 'debtinc', 'employ', 'income']"
      ]
     },
     "execution_count": 76,
     "metadata": {},
     "output_type": "execute_result"
    }
   ],
   "source": [
    "features"
   ]
  },
  {
   "cell_type": "code",
   "execution_count": 77,
   "metadata": {},
   "outputs": [
    {
     "name": "stdout",
     "output_type": "stream",
     "text": [
      "Optimization terminated successfully.\n",
      "         Current function value: 0.426980\n",
      "         Iterations 7\n",
      "                         Results: Logit\n",
      "=================================================================\n",
      "Model:              Logit            Pseudo R-squared: 0.272     \n",
      "Dependent Variable: default          AIC:              432.4402  \n",
      "Date:               2023-08-03 15:44 BIC:              461.8010  \n",
      "No. Observations:   490              Log-Likelihood:   -209.22   \n",
      "Df Model:           6                LL-Null:          -287.47   \n",
      "Df Residuals:       483              LLR p-value:      3.2536e-31\n",
      "Converged:          1.0000           Scale:            1.0000    \n",
      "No. Iterations:     7.0000                                       \n",
      "------------------------------------------------------------------\n",
      "               Coef.   Std.Err.     z     P>|z|    [0.025   0.975]\n",
      "------------------------------------------------------------------\n",
      "Intercept     -1.7966    0.5987  -3.0008  0.0027  -2.9701  -0.6232\n",
      "address       -0.0849    0.0257  -3.3082  0.0009  -0.1351  -0.0346\n",
      "age            0.0386    0.0202   1.9108  0.0560  -0.0010   0.0781\n",
      "creddebt       0.5812    0.1241   4.6834  0.0000   0.3380   0.8245\n",
      "debtinc        0.0736    0.0235   3.1256  0.0018   0.0274   0.1197\n",
      "employ        -0.2569    0.0364  -7.0585  0.0000  -0.3283  -0.1856\n",
      "income         0.0020    0.0076   0.2666  0.7898  -0.0128   0.0168\n",
      "=================================================================\n",
      "\n"
     ]
    }
   ],
   "source": [
    "model_eq= 'default ~ ' + ' + '.join(features)\n",
    "m2= smf.logit(formula= model_eq, data= train).fit()\n",
    "print(m2.summary2())"
   ]
  },
  {
   "cell_type": "code",
   "execution_count": 78,
   "metadata": {},
   "outputs": [],
   "source": [
    "features= ['address', 'age', 'creddebt', 'debtinc', 'employ']"
   ]
  },
  {
   "cell_type": "code",
   "execution_count": 79,
   "metadata": {},
   "outputs": [
    {
     "name": "stdout",
     "output_type": "stream",
     "text": [
      "Optimization terminated successfully.\n",
      "         Current function value: 0.427051\n",
      "         Iterations 7\n",
      "                         Results: Logit\n",
      "=================================================================\n",
      "Model:              Logit            Pseudo R-squared: 0.272     \n",
      "Dependent Variable: default          AIC:              430.5102  \n",
      "Date:               2023-08-03 15:45 BIC:              455.6766  \n",
      "No. Observations:   490              Log-Likelihood:   -209.26   \n",
      "Df Model:           5                LL-Null:          -287.47   \n",
      "Df Residuals:       484              LLR p-value:      5.6901e-32\n",
      "Converged:          1.0000           Scale:            1.0000    \n",
      "No. Iterations:     7.0000                                       \n",
      "------------------------------------------------------------------\n",
      "               Coef.   Std.Err.     z     P>|z|    [0.025   0.975]\n",
      "------------------------------------------------------------------\n",
      "Intercept     -1.7615    0.5836  -3.0185  0.0025  -2.9053  -0.6177\n",
      "address       -0.0839    0.0254  -3.3047  0.0010  -0.1336  -0.0341\n",
      "age            0.0392    0.0201   1.9528  0.0508  -0.0001   0.0785\n",
      "creddebt       0.5996    0.1035   5.7917  0.0000   0.3967   0.8025\n",
      "debtinc        0.0710    0.0214   3.3127  0.0009   0.0290   0.1130\n",
      "employ        -0.2541    0.0348  -7.3056  0.0000  -0.3223  -0.1860\n",
      "=================================================================\n",
      "\n"
     ]
    }
   ],
   "source": [
    "model_eq= 'default ~ ' + ' + '.join(features)\n",
    "m3= smf.logit(formula= model_eq, data= train).fit()\n",
    "print(m3.summary2())"
   ]
  },
  {
   "cell_type": "markdown",
   "metadata": {},
   "source": [
    "### Predict  the values"
   ]
  },
  {
   "cell_type": "code",
   "execution_count": 80,
   "metadata": {},
   "outputs": [],
   "source": [
    "# Predict the values on training and testing.\n",
    "train_predict= m3.predict(train)\n",
    "test_predict= m3.predict(test)"
   ]
  },
  {
   "cell_type": "code",
   "execution_count": 82,
   "metadata": {},
   "outputs": [
    {
     "data": {
      "text/plain": [
       "357    0.585803\n",
       "649    0.529728\n",
       "dtype: float64"
      ]
     },
     "execution_count": 82,
     "metadata": {},
     "output_type": "execute_result"
    }
   ],
   "source": [
    "train_predict.head(2)"
   ]
  },
  {
   "cell_type": "markdown",
   "metadata": {},
   "source": [
    "### Model scoring"
   ]
  },
  {
   "cell_type": "code",
   "execution_count": 85,
   "metadata": {},
   "outputs": [],
   "source": [
    "# Combine the y actual and y predicted\n",
    "train_data= pd.concat([train.default, train_predict], axis= 1)\n",
    "test_data= pd.concat([test.default, test_predict], axis= 1)\n",
    "\n",
    "train_data.columns= ['y_actual', 'y_predict_proba']\n",
    "test_data.columns= ['y_actual', 'y_predict_proba']"
   ]
  },
  {
   "cell_type": "code",
   "execution_count": 87,
   "metadata": {},
   "outputs": [
    {
     "name": "stdout",
     "output_type": "stream",
     "text": [
      "Train: 0.838210632232098 | Test: 0.8885790340981113\n"
     ]
    }
   ],
   "source": [
    "# ruc_auc_score\n",
    "concordance_train= roc_auc_score(train_data.y_actual, train_data.y_predict_proba)\n",
    "concordance_test= roc_auc_score(test_data.y_actual, test_data.y_predict_proba)\n",
    "\n",
    "print('Train:', concordance_train, '| Test:', concordance_test)"
   ]
  },
  {
   "cell_type": "markdown",
   "metadata": {},
   "source": [
    "### Find the model accuracy at cut off 0.5"
   ]
  },
  {
   "cell_type": "code",
   "execution_count": 88,
   "metadata": {},
   "outputs": [],
   "source": [
    "train_data['y_pred'] = np.where(train_data.y_predict_proba >= 0.5, 1, 0)"
   ]
  },
  {
   "cell_type": "code",
   "execution_count": 90,
   "metadata": {},
   "outputs": [
    {
     "data": {
      "text/html": [
       "<div>\n",
       "<style scoped>\n",
       "    .dataframe tbody tr th:only-of-type {\n",
       "        vertical-align: middle;\n",
       "    }\n",
       "\n",
       "    .dataframe tbody tr th {\n",
       "        vertical-align: top;\n",
       "    }\n",
       "\n",
       "    .dataframe thead th {\n",
       "        text-align: right;\n",
       "    }\n",
       "</style>\n",
       "<table border=\"1\" class=\"dataframe\">\n",
       "  <thead>\n",
       "    <tr style=\"text-align: right;\">\n",
       "      <th>y_pred</th>\n",
       "      <th>1</th>\n",
       "      <th>0</th>\n",
       "    </tr>\n",
       "    <tr>\n",
       "      <th>y_actual</th>\n",
       "      <th></th>\n",
       "      <th></th>\n",
       "    </tr>\n",
       "  </thead>\n",
       "  <tbody>\n",
       "    <tr>\n",
       "      <th>1.0</th>\n",
       "      <td>63</td>\n",
       "      <td>71</td>\n",
       "    </tr>\n",
       "    <tr>\n",
       "      <th>0.0</th>\n",
       "      <td>30</td>\n",
       "      <td>326</td>\n",
       "    </tr>\n",
       "  </tbody>\n",
       "</table>\n",
       "</div>"
      ],
      "text/plain": [
       "y_pred     1    0\n",
       "y_actual         \n",
       "1.0       63   71\n",
       "0.0       30  326"
      ]
     },
     "execution_count": 90,
     "metadata": {},
     "output_type": "execute_result"
    }
   ],
   "source": [
    "# Confusion matrix - Method 1\n",
    "pd.crosstab(index= train_data.y_actual, columns= train_data.y_pred).loc[::-1, ::-1]"
   ]
  },
  {
   "cell_type": "code",
   "execution_count": 97,
   "metadata": {},
   "outputs": [
    {
     "name": "stdout",
     "output_type": "stream",
     "text": [
      "[[ 63  71]\n",
      " [ 30 326]]\n",
      "accuracy: 0.7938775510204081 | tpr: 0.4701492537313433 | fpr: 0.08426966292134831\n"
     ]
    }
   ],
   "source": [
    "# Confusion matrix - Method 2\n",
    "cm_p50= confusion_matrix(train_data.y_actual, train_data.y_pred)[::-1, ::-1]\n",
    "\n",
    "tp= cm_p50[0, 0]\n",
    "tn= cm_p50[1, 1]\n",
    "fp= cm_p50[1, 0]\n",
    "fn= cm_p50[0, 1]\n",
    "\n",
    "accuracy= (tp + tn)/cm_p50.sum()\n",
    "tpr= tp/(tp+fn)\n",
    "fpr= fp/(fp+tn)\n",
    "\n",
    "print(cm_p50)\n",
    "print('accuracy:', accuracy, '| tpr:', tpr, '| fpr:', fpr)"
   ]
  },
  {
   "cell_type": "code",
   "execution_count": 99,
   "metadata": {},
   "outputs": [
    {
     "name": "stdout",
     "output_type": "stream",
     "text": [
      "              precision    recall  f1-score   support\n",
      "\n",
      "         0.0       0.82      0.92      0.87       356\n",
      "         1.0       0.68      0.47      0.56       134\n",
      "\n",
      "    accuracy                           0.79       490\n",
      "   macro avg       0.75      0.69      0.71       490\n",
      "weighted avg       0.78      0.79      0.78       490\n",
      "\n"
     ]
    }
   ],
   "source": [
    "print(classification_report(train_data.y_actual, train_data.y_pred))"
   ]
  },
  {
   "cell_type": "markdown",
   "metadata": {},
   "source": [
    "### Get the best cut-off"
   ]
  },
  {
   "cell_type": "code",
   "execution_count": 102,
   "metadata": {},
   "outputs": [
    {
     "name": "stdout",
     "output_type": "stream",
     "text": [
      "best_cutoff: 0.34\n"
     ]
    }
   ],
   "source": [
    "# Empty dataframe to store the information.\n",
    "cm_scores= pd.DataFrame()\n",
    "\n",
    "# Run the loop for different prob values.\n",
    "for prob_value in np.arange(0, 1.01, 0.01):\n",
    "    \n",
    "#     Get the y_pred.\n",
    "    train_data['y_pred']= np.where(train_data.y_predict_proba >= prob_value, 1, 0)\n",
    "    \n",
    "#     Get the confusion matrix.\n",
    "    cm= confusion_matrix(train_data.y_actual, train_data.y_pred)[::-1, ::-1]\n",
    "    \n",
    "#     Get the metrics values.\n",
    "    tp= cm[0, 0]\n",
    "    tn= cm[1, 1]\n",
    "    fp= cm[1, 0]\n",
    "    fn= cm[0, 1]\n",
    "    \n",
    "    accuracy= (tp + tn)/cm.sum()\n",
    "    tpr= tp/ (tp+fn)\n",
    "    fpr= fp/ (fp+tn)\n",
    "    s_s= tpr + 1 - fpr\n",
    "    \n",
    "#     Store the data in temp dataframe\n",
    "    temp_df= pd.DataFrame([prob_value, tp, tn, fp, fn, accuracy, tpr, fpr, s_s]).T\n",
    "    \n",
    "#     Add the dataframe to final dataframe.\n",
    "    cm_scores= pd.concat([cm_scores, temp_df])\n",
    "    \n",
    "# Add the column names\n",
    "cm_scores.columns= ['prob_value', 'tp', 'tn', 'fp', 'fn', 'accuracy', 'tpr', 'fpr', 's_s']\n",
    "\n",
    "# Get the best cut off value.\n",
    "best_cutoff= cm_scores.loc[cm_scores.s_s ==cm_scores.s_s.max(), 'prob_value'][0]\n",
    "print('best_cutoff:', best_cutoff)"
   ]
  },
  {
   "cell_type": "markdown",
   "metadata": {},
   "source": [
    "### Final prediction with the best cutoff"
   ]
  },
  {
   "cell_type": "code",
   "execution_count": 105,
   "metadata": {},
   "outputs": [],
   "source": [
    "train_data['y_pred'] = np.where(train_data.y_predict_proba >= best_cutoff, 1, 0)\n",
    "test_data['y_pred']= np.where(test_data.y_predict_proba >= best_cutoff, 1, 0)"
   ]
  },
  {
   "cell_type": "markdown",
   "metadata": {},
   "source": [
    "### Classification report from the best cutoff"
   ]
  },
  {
   "cell_type": "code",
   "execution_count": 107,
   "metadata": {},
   "outputs": [
    {
     "name": "stdout",
     "output_type": "stream",
     "text": [
      "              precision    recall  f1-score   support\n",
      "\n",
      "         0.0       0.89      0.79      0.84       356\n",
      "         1.0       0.57      0.74      0.64       134\n",
      "\n",
      "    accuracy                           0.78       490\n",
      "   macro avg       0.73      0.76      0.74       490\n",
      "weighted avg       0.80      0.78      0.78       490\n",
      "\n",
      "----------------------------------------------------------------\n",
      "              precision    recall  f1-score   support\n",
      "\n",
      "         0.0       0.91      0.85      0.88       161\n",
      "         1.0       0.60      0.73      0.66        49\n",
      "\n",
      "    accuracy                           0.82       210\n",
      "   macro avg       0.76      0.79      0.77       210\n",
      "weighted avg       0.84      0.82      0.83       210\n",
      "\n"
     ]
    }
   ],
   "source": [
    "print(classification_report(train_data.y_actual, train_data.y_pred))\n",
    "print('---------------------------------------------------------------------\n",
    "      ')\n",
    "print(classification_report(test_data.y_actual, test_data.y_pred))"
   ]
  },
  {
   "cell_type": "markdown",
   "metadata": {},
   "source": [
    "### Decile analysis"
   ]
  },
  {
   "cell_type": "code",
   "execution_count": 111,
   "metadata": {},
   "outputs": [],
   "source": [
    "# Decile analysis for validation of models - Business validation\n",
    "train_data['Deciles']= pd.qcut(train_data.y_predict_proba, 10, labels= False)\n",
    "test_data['Deciles']= pd.qcut(test_data.y_predict_proba, 10, labels= False)"
   ]
  },
  {
   "cell_type": "markdown",
   "metadata": {},
   "source": [
    "### Decile Analysis for train data."
   ]
  },
  {
   "cell_type": "code",
   "execution_count": 112,
   "metadata": {},
   "outputs": [
    {
     "data": {
      "text/html": [
       "<div>\n",
       "<style scoped>\n",
       "    .dataframe tbody tr th:only-of-type {\n",
       "        vertical-align: middle;\n",
       "    }\n",
       "\n",
       "    .dataframe tbody tr th {\n",
       "        vertical-align: top;\n",
       "    }\n",
       "\n",
       "    .dataframe thead th {\n",
       "        text-align: right;\n",
       "    }\n",
       "</style>\n",
       "<table border=\"1\" class=\"dataframe\">\n",
       "  <thead>\n",
       "    <tr style=\"text-align: right;\">\n",
       "      <th></th>\n",
       "      <th>y_actual</th>\n",
       "      <th>y_predict_proba</th>\n",
       "      <th>y_pred</th>\n",
       "      <th>Deciles</th>\n",
       "    </tr>\n",
       "  </thead>\n",
       "  <tbody>\n",
       "    <tr>\n",
       "      <th>357</th>\n",
       "      <td>1.0</td>\n",
       "      <td>0.585803</td>\n",
       "      <td>1</td>\n",
       "      <td>8</td>\n",
       "    </tr>\n",
       "    <tr>\n",
       "      <th>649</th>\n",
       "      <td>0.0</td>\n",
       "      <td>0.529728</td>\n",
       "      <td>1</td>\n",
       "      <td>8</td>\n",
       "    </tr>\n",
       "    <tr>\n",
       "      <th>291</th>\n",
       "      <td>0.0</td>\n",
       "      <td>0.060701</td>\n",
       "      <td>0</td>\n",
       "      <td>2</td>\n",
       "    </tr>\n",
       "    <tr>\n",
       "      <th>420</th>\n",
       "      <td>1.0</td>\n",
       "      <td>0.599717</td>\n",
       "      <td>1</td>\n",
       "      <td>8</td>\n",
       "    </tr>\n",
       "    <tr>\n",
       "      <th>177</th>\n",
       "      <td>0.0</td>\n",
       "      <td>0.130221</td>\n",
       "      <td>0</td>\n",
       "      <td>3</td>\n",
       "    </tr>\n",
       "  </tbody>\n",
       "</table>\n",
       "</div>"
      ],
      "text/plain": [
       "     y_actual  y_predict_proba  y_pred  Deciles\n",
       "357       1.0         0.585803       1        8\n",
       "649       0.0         0.529728       1        8\n",
       "291       0.0         0.060701       0        2\n",
       "420       1.0         0.599717       1        8\n",
       "177       0.0         0.130221       0        3"
      ]
     },
     "execution_count": 112,
     "metadata": {},
     "output_type": "execute_result"
    }
   ],
   "source": [
    "train_data.head()"
   ]
  },
  {
   "cell_type": "code",
   "execution_count": 119,
   "metadata": {},
   "outputs": [],
   "source": [
    "train_deciles= train_data.pivot_table(values= ['y_predict_proba', 'y_actual'], index= 'Deciles', aggfunc= {'y_predict_proba' : ['min', 'max'], 'y_actual' : ['sum', 'count']}).reset_index().sort_values(by= 'Deciles', ascending= False)\n",
    "test_deciles= test_data.pivot_table(values= ['y_predict_proba', 'y_actual'], index= 'Deciles', aggfunc= {'y_predict_proba': ['min', 'max'], 'y_actual' : ['sum', 'count']}).reset_index().sort_values(by= 'Deciles', ascending= False)"
   ]
  },
  {
   "cell_type": "markdown",
   "metadata": {},
   "source": [
    "### Predicting new customers (Implementation of Model on new data)"
   ]
  },
  {
   "cell_type": "code",
   "execution_count": 120,
   "metadata": {},
   "outputs": [
    {
     "data": {
      "text/html": [
       "<div>\n",
       "<style scoped>\n",
       "    .dataframe tbody tr th:only-of-type {\n",
       "        vertical-align: middle;\n",
       "    }\n",
       "\n",
       "    .dataframe tbody tr th {\n",
       "        vertical-align: top;\n",
       "    }\n",
       "\n",
       "    .dataframe thead th {\n",
       "        text-align: right;\n",
       "    }\n",
       "</style>\n",
       "<table border=\"1\" class=\"dataframe\">\n",
       "  <thead>\n",
       "    <tr style=\"text-align: right;\">\n",
       "      <th></th>\n",
       "      <th>age</th>\n",
       "      <th>ed</th>\n",
       "      <th>employ</th>\n",
       "      <th>address</th>\n",
       "      <th>income</th>\n",
       "      <th>debtinc</th>\n",
       "      <th>creddebt</th>\n",
       "      <th>othdebt</th>\n",
       "      <th>default</th>\n",
       "    </tr>\n",
       "  </thead>\n",
       "  <tbody>\n",
       "    <tr>\n",
       "      <th>700</th>\n",
       "      <td>36</td>\n",
       "      <td>1</td>\n",
       "      <td>16</td>\n",
       "      <td>13</td>\n",
       "      <td>32</td>\n",
       "      <td>10.9</td>\n",
       "      <td>0.544128</td>\n",
       "      <td>2.943872</td>\n",
       "      <td>NaN</td>\n",
       "    </tr>\n",
       "    <tr>\n",
       "      <th>701</th>\n",
       "      <td>50</td>\n",
       "      <td>1</td>\n",
       "      <td>6</td>\n",
       "      <td>27</td>\n",
       "      <td>21</td>\n",
       "      <td>12.9</td>\n",
       "      <td>1.316574</td>\n",
       "      <td>1.392426</td>\n",
       "      <td>NaN</td>\n",
       "    </tr>\n",
       "    <tr>\n",
       "      <th>702</th>\n",
       "      <td>40</td>\n",
       "      <td>1</td>\n",
       "      <td>9</td>\n",
       "      <td>9</td>\n",
       "      <td>33</td>\n",
       "      <td>17.0</td>\n",
       "      <td>4.880700</td>\n",
       "      <td>0.729300</td>\n",
       "      <td>NaN</td>\n",
       "    </tr>\n",
       "    <tr>\n",
       "      <th>703</th>\n",
       "      <td>31</td>\n",
       "      <td>1</td>\n",
       "      <td>5</td>\n",
       "      <td>7</td>\n",
       "      <td>23</td>\n",
       "      <td>2.0</td>\n",
       "      <td>0.046000</td>\n",
       "      <td>0.414000</td>\n",
       "      <td>NaN</td>\n",
       "    </tr>\n",
       "    <tr>\n",
       "      <th>704</th>\n",
       "      <td>29</td>\n",
       "      <td>1</td>\n",
       "      <td>4</td>\n",
       "      <td>0</td>\n",
       "      <td>24</td>\n",
       "      <td>7.8</td>\n",
       "      <td>0.866736</td>\n",
       "      <td>1.005264</td>\n",
       "      <td>NaN</td>\n",
       "    </tr>\n",
       "  </tbody>\n",
       "</table>\n",
       "</div>"
      ],
      "text/plain": [
       "     age  ed  employ  address  income  debtinc  creddebt   othdebt  default\n",
       "700   36   1      16       13      32     10.9  0.544128  2.943872      NaN\n",
       "701   50   1       6       27      21     12.9  1.316574  1.392426      NaN\n",
       "702   40   1       9        9      33     17.0  4.880700  0.729300      NaN\n",
       "703   31   1       5        7      23      2.0  0.046000  0.414000      NaN\n",
       "704   29   1       4        0      24      7.8  0.866736  1.005264      NaN"
      ]
     },
     "execution_count": 120,
     "metadata": {},
     "output_type": "execute_result"
    }
   ],
   "source": [
    "# Predicting new customers good or bad.\n",
    "bankloans_new.head()"
   ]
  },
  {
   "cell_type": "markdown",
   "metadata": {},
   "source": [
    "#### before scoring new customers, you need to process the data using the same steps you followed while building the model"
   ]
  },
  {
   "cell_type": "code",
   "execution_count": 122,
   "metadata": {},
   "outputs": [
    {
     "name": "stderr",
     "output_type": "stream",
     "text": [
      "C:\\Users\\HARSH\\anaconda3\\lib\\site-packages\\pandas\\core\\indexing.py:1745: SettingWithCopyWarning: \n",
      "A value is trying to be set on a copy of a slice from a DataFrame.\n",
      "Try using .loc[row_indexer,col_indexer] = value instead\n",
      "\n",
      "See the caveats in the documentation: https://pandas.pydata.org/pandas-docs/stable/user_guide/indexing.html#returning-a-view-versus-a-copy\n",
      "  isetter(ilocs[0], value)\n"
     ]
    }
   ],
   "source": [
    "bankloans_new.loc[:, 'prob']= m3.predict(bankloans_new)"
   ]
  },
  {
   "cell_type": "code",
   "execution_count": 124,
   "metadata": {},
   "outputs": [
    {
     "name": "stderr",
     "output_type": "stream",
     "text": [
      "<ipython-input-124-81a6f2fcdcca>:1: SettingWithCopyWarning: \n",
      "A value is trying to be set on a copy of a slice from a DataFrame.\n",
      "Try using .loc[row_indexer,col_indexer] = value instead\n",
      "\n",
      "See the caveats in the documentation: https://pandas.pydata.org/pandas-docs/stable/user_guide/indexing.html#returning-a-view-versus-a-copy\n",
      "  bankloans_new['default']= np.where(bankloans_new.prob > best_cutoff , 1, 0)\n"
     ]
    }
   ],
   "source": [
    "bankloans_new['default']= np.where(bankloans_new.prob > best_cutoff , 1, 0)"
   ]
  },
  {
   "cell_type": "code",
   "execution_count": 125,
   "metadata": {},
   "outputs": [
    {
     "data": {
      "text/plain": [
       "0    107\n",
       "1     43\n",
       "Name: default, dtype: int64"
      ]
     },
     "execution_count": 125,
     "metadata": {},
     "output_type": "execute_result"
    }
   ],
   "source": [
    "bankloans_new.default.value_counts()"
   ]
  },
  {
   "cell_type": "code",
   "execution_count": 126,
   "metadata": {},
   "outputs": [
    {
     "data": {
      "text/html": [
       "<div>\n",
       "<style scoped>\n",
       "    .dataframe tbody tr th:only-of-type {\n",
       "        vertical-align: middle;\n",
       "    }\n",
       "\n",
       "    .dataframe tbody tr th {\n",
       "        vertical-align: top;\n",
       "    }\n",
       "\n",
       "    .dataframe thead th {\n",
       "        text-align: right;\n",
       "    }\n",
       "</style>\n",
       "<table border=\"1\" class=\"dataframe\">\n",
       "  <thead>\n",
       "    <tr style=\"text-align: right;\">\n",
       "      <th></th>\n",
       "      <th>age</th>\n",
       "      <th>ed</th>\n",
       "      <th>employ</th>\n",
       "      <th>address</th>\n",
       "      <th>income</th>\n",
       "      <th>debtinc</th>\n",
       "      <th>creddebt</th>\n",
       "      <th>othdebt</th>\n",
       "      <th>default</th>\n",
       "      <th>prob</th>\n",
       "    </tr>\n",
       "  </thead>\n",
       "  <tbody>\n",
       "    <tr>\n",
       "      <th>803</th>\n",
       "      <td>48</td>\n",
       "      <td>1</td>\n",
       "      <td>10</td>\n",
       "      <td>0</td>\n",
       "      <td>70</td>\n",
       "      <td>28.2</td>\n",
       "      <td>10.679340</td>\n",
       "      <td>9.060660</td>\n",
       "      <td>1</td>\n",
       "      <td>0.997485</td>\n",
       "    </tr>\n",
       "    <tr>\n",
       "      <th>840</th>\n",
       "      <td>35</td>\n",
       "      <td>2</td>\n",
       "      <td>11</td>\n",
       "      <td>1</td>\n",
       "      <td>62</td>\n",
       "      <td>32.4</td>\n",
       "      <td>9.702504</td>\n",
       "      <td>10.385496</td>\n",
       "      <td>1</td>\n",
       "      <td>0.992220</td>\n",
       "    </tr>\n",
       "    <tr>\n",
       "      <th>810</th>\n",
       "      <td>26</td>\n",
       "      <td>4</td>\n",
       "      <td>1</td>\n",
       "      <td>6</td>\n",
       "      <td>64</td>\n",
       "      <td>23.3</td>\n",
       "      <td>7.754240</td>\n",
       "      <td>7.157760</td>\n",
       "      <td>1</td>\n",
       "      <td>0.991865</td>\n",
       "    </tr>\n",
       "    <tr>\n",
       "      <th>716</th>\n",
       "      <td>26</td>\n",
       "      <td>4</td>\n",
       "      <td>1</td>\n",
       "      <td>5</td>\n",
       "      <td>92</td>\n",
       "      <td>13.0</td>\n",
       "      <td>6.506240</td>\n",
       "      <td>5.453760</td>\n",
       "      <td>1</td>\n",
       "      <td>0.967938</td>\n",
       "    </tr>\n",
       "    <tr>\n",
       "      <th>836</th>\n",
       "      <td>41</td>\n",
       "      <td>2</td>\n",
       "      <td>13</td>\n",
       "      <td>1</td>\n",
       "      <td>93</td>\n",
       "      <td>14.7</td>\n",
       "      <td>9.542358</td>\n",
       "      <td>4.128642</td>\n",
       "      <td>1</td>\n",
       "      <td>0.961655</td>\n",
       "    </tr>\n",
       "    <tr>\n",
       "      <th>...</th>\n",
       "      <td>...</td>\n",
       "      <td>...</td>\n",
       "      <td>...</td>\n",
       "      <td>...</td>\n",
       "      <td>...</td>\n",
       "      <td>...</td>\n",
       "      <td>...</td>\n",
       "      <td>...</td>\n",
       "      <td>...</td>\n",
       "      <td>...</td>\n",
       "    </tr>\n",
       "    <tr>\n",
       "      <th>728</th>\n",
       "      <td>39</td>\n",
       "      <td>1</td>\n",
       "      <td>19</td>\n",
       "      <td>16</td>\n",
       "      <td>53</td>\n",
       "      <td>3.7</td>\n",
       "      <td>0.190217</td>\n",
       "      <td>1.770783</td>\n",
       "      <td>0</td>\n",
       "      <td>0.002405</td>\n",
       "    </tr>\n",
       "    <tr>\n",
       "      <th>742</th>\n",
       "      <td>44</td>\n",
       "      <td>4</td>\n",
       "      <td>18</td>\n",
       "      <td>23</td>\n",
       "      <td>78</td>\n",
       "      <td>1.0</td>\n",
       "      <td>0.564720</td>\n",
       "      <td>0.215280</td>\n",
       "      <td>0</td>\n",
       "      <td>0.002167</td>\n",
       "    </tr>\n",
       "    <tr>\n",
       "      <th>749</th>\n",
       "      <td>48</td>\n",
       "      <td>2</td>\n",
       "      <td>21</td>\n",
       "      <td>14</td>\n",
       "      <td>86</td>\n",
       "      <td>1.2</td>\n",
       "      <td>0.145512</td>\n",
       "      <td>0.886488</td>\n",
       "      <td>0</td>\n",
       "      <td>0.001985</td>\n",
       "    </tr>\n",
       "    <tr>\n",
       "      <th>723</th>\n",
       "      <td>52</td>\n",
       "      <td>1</td>\n",
       "      <td>33</td>\n",
       "      <td>23</td>\n",
       "      <td>139</td>\n",
       "      <td>5.6</td>\n",
       "      <td>2.288496</td>\n",
       "      <td>5.495504</td>\n",
       "      <td>0</td>\n",
       "      <td>0.000256</td>\n",
       "    </tr>\n",
       "    <tr>\n",
       "      <th>774</th>\n",
       "      <td>47</td>\n",
       "      <td>1</td>\n",
       "      <td>29</td>\n",
       "      <td>20</td>\n",
       "      <td>169</td>\n",
       "      <td>2.2</td>\n",
       "      <td>0.349492</td>\n",
       "      <td>3.368508</td>\n",
       "      <td>0</td>\n",
       "      <td>0.000184</td>\n",
       "    </tr>\n",
       "  </tbody>\n",
       "</table>\n",
       "<p>150 rows × 10 columns</p>\n",
       "</div>"
      ],
      "text/plain": [
       "     age  ed  employ  address  income  debtinc   creddebt    othdebt  default  \\\n",
       "803   48   1      10        0      70     28.2  10.679340   9.060660        1   \n",
       "840   35   2      11        1      62     32.4   9.702504  10.385496        1   \n",
       "810   26   4       1        6      64     23.3   7.754240   7.157760        1   \n",
       "716   26   4       1        5      92     13.0   6.506240   5.453760        1   \n",
       "836   41   2      13        1      93     14.7   9.542358   4.128642        1   \n",
       "..   ...  ..     ...      ...     ...      ...        ...        ...      ...   \n",
       "728   39   1      19       16      53      3.7   0.190217   1.770783        0   \n",
       "742   44   4      18       23      78      1.0   0.564720   0.215280        0   \n",
       "749   48   2      21       14      86      1.2   0.145512   0.886488        0   \n",
       "723   52   1      33       23     139      5.6   2.288496   5.495504        0   \n",
       "774   47   1      29       20     169      2.2   0.349492   3.368508        0   \n",
       "\n",
       "         prob  \n",
       "803  0.997485  \n",
       "840  0.992220  \n",
       "810  0.991865  \n",
       "716  0.967938  \n",
       "836  0.961655  \n",
       "..        ...  \n",
       "728  0.002405  \n",
       "742  0.002167  \n",
       "749  0.001985  \n",
       "723  0.000256  \n",
       "774  0.000184  \n",
       "\n",
       "[150 rows x 10 columns]"
      ]
     },
     "execution_count": 126,
     "metadata": {},
     "output_type": "execute_result"
    }
   ],
   "source": [
    "bankloans_new.sort_values(by= 'prob', ascending= False)"
   ]
  },
  {
   "cell_type": "code",
   "execution_count": null,
   "metadata": {},
   "outputs": [],
   "source": []
  }
 ],
 "metadata": {
  "kernelspec": {
   "display_name": "Python 3",
   "language": "python",
   "name": "python3"
  },
  "language_info": {
   "codemirror_mode": {
    "name": "ipython",
    "version": 3
   },
   "file_extension": ".py",
   "mimetype": "text/x-python",
   "name": "python",
   "nbconvert_exporter": "python",
   "pygments_lexer": "ipython3",
   "version": "3.8.5"
  }
 },
 "nbformat": 4,
 "nbformat_minor": 4
}
